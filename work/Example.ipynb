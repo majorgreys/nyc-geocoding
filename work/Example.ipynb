{
 "cells": [
  {
   "cell_type": "code",
   "execution_count": 62,
   "metadata": {},
   "outputs": [],
   "source": [
    "from geosupport import Geocode\n",
    "import pandas as pd\n",
    "import numpy as np\n",
    "import simplejson as json"
   ]
  },
  {
   "cell_type": "code",
   "execution_count": 2,
   "metadata": {},
   "outputs": [],
   "source": [
    "g = Geocode()"
   ]
  },
  {
   "cell_type": "code",
   "execution_count": 64,
   "metadata": {},
   "outputs": [],
   "source": [
    "def geocode(line):\n",
    "    address = line['address']\n",
    "    zip = line['ZIP']\n",
    "    try:\n",
    "        result = g.address(address=address, zip=zip)\n",
    "        return json.dumps(result)\n",
    "    except:\n",
    "        pass"
   ]
  },
  {
   "cell_type": "code",
   "execution_count": 66,
   "metadata": {},
   "outputs": [],
   "source": [
    "result = g.address(address=\"123 PALMER AVE\", zip=10302)"
   ]
  },
  {
   "cell_type": "code",
   "execution_count": 67,
   "metadata": {},
   "outputs": [
    {
     "data": {
      "text/plain": [
       "{'1990 Census Tract': '213',\n",
       " '2000 Census Block': '1004',\n",
       " '2000 Census Block Suffix': '',\n",
       " '2000 Census Tract': '213',\n",
       " '2010 Census Block': '1002',\n",
       " '2010 Census Tract': '213',\n",
       " '5-Digit Street Code of ON- Street': '42540',\n",
       " 'Alley or Cross Street List Flag': '',\n",
       " 'Angle to From Node - Beta Value': '',\n",
       " 'Angle to To Node - Alpha Value': '',\n",
       " 'Assembly District': '6',\n",
       " 'Atomic Polygon': '105',\n",
       " 'B10SC - First Borough and Street Code': '54254001010',\n",
       " 'B10SC - Second Borough and Street Code': '',\n",
       " 'B10SC - Third Borough and Street Code': '',\n",
       " 'BOE LGC Pointer': '1',\n",
       " 'BOE Preferred B7SC': '54254001',\n",
       " 'BOE Preferred Street Name': 'PALMER AVENUE',\n",
       " 'BOROUGH BLOCK LOT': {'Borough Code': '', 'Tax Block': '', 'Tax Lot': ''},\n",
       " 'BOROUGH BLOCK LOT (BBL)': {'Borough Code': '5',\n",
       "  'Tax Block': '01038',\n",
       "  'Tax Lot': '0049'},\n",
       " 'Bike Lane': '',\n",
       " 'Bike Lane 2': '',\n",
       " 'Bike Traffic Direction': '',\n",
       " 'Blockface ID': '1622606950',\n",
       " 'Borough': '5',\n",
       " 'Building Identification Number (BIN)': '',\n",
       " 'Building Identification Number (BIN) of Input Address or NAP': '5024317',\n",
       " 'Business Improvement District (BID)': '',\n",
       " 'COMMUNITY DISTRICT': '501',\n",
       " 'City Council District': '49',\n",
       " 'Civil Court District': '01',\n",
       " 'Coincidence Segment Count': '1',\n",
       " 'Community Development Eligibility Indicator': 'E',\n",
       " 'Community District Borough Code': '5',\n",
       " 'Community District Number': '01',\n",
       " 'Community School District': '31',\n",
       " 'Condominium Billing BBL': '0000000000',\n",
       " 'Condominium Unit ID Number': '',\n",
       " 'Congressional District': '11',\n",
       " 'Continuous Parity Indicator / Duplicate Address Indicator': '',\n",
       " 'Continuous Parity Indicator/Duplicate Address Indicator': '',\n",
       " 'Cooperative ID Number': '000',\n",
       " 'Coordinates of Lot Centroid': {'Latitude': '40.63259',\n",
       "  'Longitude': '-74.134817',\n",
       "  'X Coordinate': '0946830',\n",
       "  'Y Coordinate': '0169777'},\n",
       " 'Corner Code': '',\n",
       " 'Curve Flag': '',\n",
       " 'DCP Commercial Study Area': '',\n",
       " 'DCP Preferred LGC': '01',\n",
       " 'DOF Condominium Identification Number': '',\n",
       " 'DOT Street Light Contractor Area': '5',\n",
       " 'DSNY Bulk Pickup Schedule': 'EMTH',\n",
       " 'DSNY Organic Recycling Schedule': 'EM',\n",
       " 'DSNY Snow Priority Code': 'S',\n",
       " 'Election District': '076',\n",
       " 'FDNY ID': '',\n",
       " 'Feature Type Code': '',\n",
       " 'Federal Classification Code': '',\n",
       " 'Filler': '',\n",
       " 'Filler for Tax Lot Version Number': '',\n",
       " 'Fire Battalion': '22',\n",
       " 'Fire Company Number': '157',\n",
       " 'Fire Company Type': 'E',\n",
       " 'Fire Division': '08',\n",
       " 'First Borough Name': 'STATEN IS',\n",
       " 'First Street Name Normalized': 'PALMER AVENUE',\n",
       " 'Fraction for Curve Calculation': '',\n",
       " 'From Actual Segment Node ID': '0006516',\n",
       " 'From LION Node ID': '0006516',\n",
       " 'From Preferred LGCs First Set of 5': '01',\n",
       " 'From Preferred LGCs Second Set of 5': '',\n",
       " 'Generic ID': '0052943',\n",
       " 'Geosupport Return Code': '00',\n",
       " 'Geosupport Return Code 2': '00',\n",
       " 'Health Area': '0200',\n",
       " 'Health Center District': '51',\n",
       " \"High BBL of this Building's Condominium Units\": '5010380049',\n",
       " 'High House Number': '000123000AA',\n",
       " 'High House Number of Block Face': '000171000AA',\n",
       " 'House Number - Display Format': '123',\n",
       " 'House Number - Sort Format': '000123000AA',\n",
       " 'Hurricane Evacuation Zone (HEZ)': '6',\n",
       " 'Individual Segment Length': '',\n",
       " 'Interior Lot Flag': '',\n",
       " 'Irregularly-Shaped Lot Flag': '',\n",
       " 'LION KEY': {'Borough Code': '5',\n",
       "  'Face Code': '5300',\n",
       "  'Sequence Number': '00040'},\n",
       " 'LION Key for Vanity Address': '5530000040',\n",
       " 'LIST OF GEOGRAPHIC IDENTIFIERS': '123             123542540015024317R  PALMER AVENUE',\n",
       " 'Latitude': '40.632623',\n",
       " 'Legacy Segment ID': '0009338',\n",
       " \"List of 4 LGC's\": '01',\n",
       " 'List of Cross Street Names at High Address End': 'PORT RICHMOND AVENUE',\n",
       " 'List of Cross Street Names at Low Address End': 'HEBERTON AVENUE',\n",
       " 'List of Cross Streets at High Address End (Up to 5 B5SCs)': '510050',\n",
       " 'List of Cross Streets at High Address End (Up to 5 B7SCs)': '51005001',\n",
       " 'List of Cross Streets at Low Address End (Up to 5 B5SCs)': '532450',\n",
       " 'List of Cross Streets at Low Address End (Up to 5 B7SCs)': '53245001',\n",
       " 'List of Geographic Identifiers Overflow Flag': '',\n",
       " 'List of Second Set of 5 LGCs': '',\n",
       " 'List of Street Codes': '',\n",
       " 'List of Street Names': '',\n",
       " 'Longitude': '-74.135253',\n",
       " \"Low BBL of this Building's Condominium Units\": '5010380049',\n",
       " 'Low House Number - Display Format': '',\n",
       " 'Low House Number - Sort Format': '',\n",
       " 'Low House Number of Block Face': '000101000AA',\n",
       " 'Low House Number of Defining Address Range': '000123000AA',\n",
       " 'Marble Hill/Rikers Island Alternate Borough Flag': '',\n",
       " 'Marble Hill/Rikers Island Alternative Borough Flag': '',\n",
       " 'Message': '',\n",
       " 'Message 2': '',\n",
       " 'NIN28': '',\n",
       " 'NTA Name': 'Port Richmond',\n",
       " 'NYPD ID': '',\n",
       " 'Neighborhood Tabulation Area (NTA)': 'SI28',\n",
       " 'No Cross Street Calculation Flag': '',\n",
       " 'No. of Cross Streets at High Address End': '5',\n",
       " 'Node Number': '',\n",
       " 'Number of Cross Streets at High Address End': '1',\n",
       " 'Number of Cross Streets at Low Address End': '1',\n",
       " 'Number of Entries in List of Geographic Identifiers': '0001',\n",
       " 'Number of Existing Structures on Lot': '0001',\n",
       " 'Number of Parking Lanes on the Street': '1',\n",
       " 'Number of Street Codes and Street Names in List': '',\n",
       " 'Number of Street Frontages of Lot': '01',\n",
       " 'Number of Total Lanes on the Street': '2',\n",
       " 'Number of Travel Lanes on the Street': '1',\n",
       " 'Physical ID': '0060625',\n",
       " 'Police Patrol Borough': 'SI',\n",
       " 'Police Patrol Borough Command': '7',\n",
       " 'Police Precinct': '121',\n",
       " 'RPAD Building Classification Code': 'B2',\n",
       " 'RPAD Self-Check Code (SCC) for BBL': '6',\n",
       " 'Radius of Circle': '',\n",
       " 'Reason Code': '',\n",
       " 'Reason Code 2': '',\n",
       " 'Reason Code Qualifier': '',\n",
       " 'Reason Code Qualifier 2': '',\n",
       " 'Reserved for Internal Use': '',\n",
       " 'Reserved for Possible Z Coordinate': '',\n",
       " 'Return Code': '00',\n",
       " 'Right Of Way Type': '',\n",
       " 'Roadway Type': '1',\n",
       " 'SBVP (SANBORN MAP IDENTIFIER)': {'Page Number': '206',\n",
       "  'Page Number Suffix': '',\n",
       "  'Sanborn Borough Code': '5',\n",
       "  'Volume Number': '02',\n",
       "  'Volume Number Suffix': ''},\n",
       " 'SPATIAL COORDINATES OF ACTUAL SEGMENT': {'X Coordinate, High Address End': '0946352',\n",
       "  'X Coordinate, Low Address End': '0946916',\n",
       "  'Y Coordinate, High Address End': '0170050',\n",
       "  'Y Coordinate, Low Address End': '0169628',\n",
       "  'Z Coordinate, High Address End': '',\n",
       "  'Z Coordinate, Low Address End': ''},\n",
       " 'SPATIAL COORDINATES OF CENTER OF CURVATURE': {'X Coordinate': '0000000',\n",
       "  'Y Coordinate': '0000000'},\n",
       " 'SPATIAL COORDINATES OF SEGMENT': {'X Coordinate, High Address End': '0946352',\n",
       "  'X Coordinate, Low Address End': '0946916',\n",
       "  'Y Coordinate, High Address End': '0170050',\n",
       "  'Y Coordinate, Low Address End': '0169628'},\n",
       " 'Sanitation Collection Scheduling Section and Subsection': '3C',\n",
       " 'Sanitation District': '501',\n",
       " 'Sanitation Recycling Collection Schedule': 'EM',\n",
       " 'Sanitation Regular Collection Schedule': 'MTH',\n",
       " 'Secant Location Related to Curve': '',\n",
       " 'Second Street Name Normalized': '',\n",
       " 'Segment Azimuth': '143',\n",
       " 'Segment Identifier': '0009338',\n",
       " 'Segment Length in Feet': '00705',\n",
       " 'Segment Orientation': '2',\n",
       " 'Segment Type Code': 'U',\n",
       " 'Self-Check Code (SCC) of Billing BBL': '5',\n",
       " 'Side of Street Indicator': 'R',\n",
       " 'Side of Street of Vanity Address': 'R',\n",
       " 'Special Address Generated Record Flag': '',\n",
       " 'Split Election District Flag': '',\n",
       " 'Split Low House Number': '000101000AA',\n",
       " 'State Senatorial District': '23',\n",
       " 'Street Attribute Indicator': '',\n",
       " 'Street Attribute Indicators': '',\n",
       " 'Street Status': '2',\n",
       " 'Street Width': '24',\n",
       " 'Street Width Irregular': '',\n",
       " 'Street Width Maximum': '25',\n",
       " 'TPAD BIN Status': '',\n",
       " 'TPAD Conflict Flag': '',\n",
       " 'TPAD New BIN': '',\n",
       " 'TPAD New BIN Status': '',\n",
       " 'Tax Map Number Section & Volume': '50501',\n",
       " 'Third Street Name Normalized': '',\n",
       " 'To Actual Segment Node ID': '0006965',\n",
       " 'To LION Node ID': '0006965',\n",
       " 'To Preferred LGCs First Set of 5': '01',\n",
       " 'To Preferred LGCs Second Set of 5': '',\n",
       " 'Traffic Direction': 'A',\n",
       " 'Turn Restrictions': '',\n",
       " 'UNIT - SORT FORMAT': {'Unit - Display Format': '',\n",
       "  'Unit - Identifier': '',\n",
       "  'Unit - Type': ''},\n",
       " 'USPS Preferred City Name': 'STATEN ISLAND',\n",
       " 'Underlying Address Number for NAPs': '',\n",
       " 'Underlying B7SC': '54254001',\n",
       " 'Vacant Lot Flag': '',\n",
       " 'Warning Code': '',\n",
       " 'Warning Code 2': '',\n",
       " 'X Coordinate - Address': '0946709',\n",
       " 'Y Coordinate - Address': '0169787',\n",
       " 'ZIP Code': '10302'}"
      ]
     },
     "execution_count": 67,
     "metadata": {},
     "output_type": "execute_result"
    }
   ],
   "source": [
    "result"
   ]
  },
  {
   "cell_type": "code",
   "execution_count": 68,
   "metadata": {},
   "outputs": [],
   "source": [
    "sample = pd.read_csv('/data/sample.csv')"
   ]
  },
  {
   "cell_type": "code",
   "execution_count": 69,
   "metadata": {},
   "outputs": [],
   "source": [
    "sample['response'] = sample.apply(geocode, axis=1)"
   ]
  },
  {
   "cell_type": "code",
   "execution_count": 70,
   "metadata": {},
   "outputs": [
    {
     "data": {
      "text/plain": [
       "0    {\"First Borough Name\": \"MANHATTAN\", \"House Num...\n",
       "1    {\"First Borough Name\": \"STATEN IS\", \"House Num...\n",
       "2    {\"First Borough Name\": \"QUEENS\", \"House Number...\n",
       "3    {\"First Borough Name\": \"MANHATTAN\", \"House Num...\n",
       "4    {\"First Borough Name\": \"MANHATTAN\", \"House Num...\n",
       "5    {\"First Borough Name\": \"MANHATTAN\", \"House Num...\n",
       "6    {\"First Borough Name\": \"QUEENS\", \"House Number...\n",
       "7    {\"First Borough Name\": \"MANHATTAN\", \"House Num...\n",
       "8    {\"First Borough Name\": \"MANHATTAN\", \"House Num...\n",
       "9    {\"First Borough Name\": \"QUEENS\", \"House Number...\n",
       "Name: response, dtype: object"
      ]
     },
     "execution_count": 70,
     "metadata": {},
     "output_type": "execute_result"
    }
   ],
   "source": [
    "sample[:10]['response']"
   ]
  },
  {
   "cell_type": "markdown",
   "metadata": {},
   "source": [
    "# Batch process full dataset"
   ]
  },
  {
   "cell_type": "code",
   "execution_count": 71,
   "metadata": {},
   "outputs": [],
   "source": [
    "def batchprocess(data):\n",
    "    for gi, gdf in data.groupby(np.arange(len(data)) // 50000):\n",
    "        print('Processing chunk {}...'.format(gi))\n",
    "        gdf['response'] = gdf.apply(geocode, axis=1)\n",
    "        gdf.to_csv('/data/full_{}.csv'.format(gi), index=False)"
   ]
  },
  {
   "cell_type": "code",
   "execution_count": 72,
   "metadata": {},
   "outputs": [],
   "source": [
    "fulldata = pd.read_csv('/data/full.csv', encoding = \"ISO-8859-1\")"
   ]
  },
  {
   "cell_type": "code",
   "execution_count": 73,
   "metadata": {},
   "outputs": [
    {
     "name": "stdout",
     "output_type": "stream",
     "text": [
      "Processing chunk 0...\n"
     ]
    },
    {
     "name": "stderr",
     "output_type": "stream",
     "text": [
      "/usr/local/lib/python3.6/site-packages/ipykernel_launcher.py:4: SettingWithCopyWarning: \n",
      "A value is trying to be set on a copy of a slice from a DataFrame.\n",
      "Try using .loc[row_indexer,col_indexer] = value instead\n",
      "\n",
      "See the caveats in the documentation: http://pandas.pydata.org/pandas-docs/stable/indexing.html#indexing-view-versus-copy\n",
      "  after removing the cwd from sys.path.\n"
     ]
    },
    {
     "name": "stdout",
     "output_type": "stream",
     "text": [
      "Processing chunk 1...\n",
      "Processing chunk 2...\n",
      "Processing chunk 3...\n",
      "Processing chunk 4...\n",
      "Processing chunk 5...\n",
      "Processing chunk 6...\n",
      "Processing chunk 7...\n",
      "Processing chunk 8...\n",
      "Processing chunk 9...\n",
      "Processing chunk 10...\n",
      "Processing chunk 11...\n",
      "Processing chunk 12...\n",
      "Processing chunk 13...\n",
      "Processing chunk 14...\n",
      "Processing chunk 15...\n",
      "CPU times: user 19min 7s, sys: 57.2 s, total: 20min 4s\n",
      "Wall time: 20min 14s\n"
     ]
    }
   ],
   "source": [
    "%time batchprocess(fulldata)"
   ]
  },
  {
   "cell_type": "markdown",
   "metadata": {},
   "source": [
    "# Pull out particular fields"
   ]
  },
  {
   "cell_type": "markdown",
   "metadata": {},
   "source": [
    "We can pull out now the fields from the json response, which can of course be json objects themselves as is the case with the BBL entry:"
   ]
  },
  {
   "cell_type": "code",
   "execution_count": 74,
   "metadata": {},
   "outputs": [],
   "source": [
    "sample = pd.read_csv('/data/full_0.csv')"
   ]
  },
  {
   "cell_type": "code",
   "execution_count": 75,
   "metadata": {},
   "outputs": [
    {
     "data": {
      "text/plain": [
       "0    {'Borough Code': '', 'Tax Block': '', 'Tax Lot...\n",
       "1    {'Borough Code': '5', 'Tax Block': '01038', 'T...\n",
       "2    {'Borough Code': '', 'Tax Block': '', 'Tax Lot...\n",
       "3    {'Borough Code': '1', 'Tax Block': '01992', 'T...\n",
       "4    {'Borough Code': '1', 'Tax Block': '00286', 'T...\n",
       "5    {'Borough Code': '1', 'Tax Block': '00895', 'T...\n",
       "6    {'Borough Code': '4', 'Tax Block': '11331', 'T...\n",
       "7    {'Borough Code': '1', 'Tax Block': '01482', 'T...\n",
       "8    {'Borough Code': '1', 'Tax Block': '01770', 'T...\n",
       "9    {'Borough Code': '4', 'Tax Block': '06407', 'T...\n",
       "dtype: object"
      ]
     },
     "execution_count": 75,
     "metadata": {},
     "output_type": "execute_result"
    }
   ],
   "source": [
    "sample[:10].apply(lambda x: json.loads(x['response'])['BOROUGH BLOCK LOT (BBL)'], axis=1)"
   ]
  },
  {
   "cell_type": "code",
   "execution_count": 76,
   "metadata": {},
   "outputs": [],
   "source": [
    "def bbl(row):\n",
    "    \"\"\" Produce BBL string for row in data \"\"\"\n",
    "    if 'response' in row and row['response']:\n",
    "        response = json.loads(row['response'])\n",
    "        if response:\n",
    "            bbldict = response['BOROUGH BLOCK LOT (BBL)']\n",
    "            result = '{}-{}-{}'.format(bbldict['Borough Code'],\n",
    "                                       bbldict['Tax Block'],\n",
    "                                       bbldict['Tax Lot'])\n",
    "            return result"
   ]
  },
  {
   "cell_type": "code",
   "execution_count": 81,
   "metadata": {},
   "outputs": [
    {
     "data": {
      "text/plain": [
       "0              --\n",
       "1    5-01038-0049\n",
       "2              --\n",
       "3    1-01992-0013\n",
       "4    1-00286-0024\n",
       "5    1-00895-0015\n",
       "6    4-11331-0001\n",
       "7    1-01482-0020\n",
       "8    1-01770-0033\n",
       "9    4-06407-0001\n",
       "dtype: object"
      ]
     },
     "execution_count": 81,
     "metadata": {},
     "output_type": "execute_result"
    }
   ],
   "source": [
    "sample[:10].dropna().apply(bbl, axis=1)"
   ]
  },
  {
   "cell_type": "markdown",
   "metadata": {},
   "source": [
    "Remember to `dropna()` since some of the rows might not have resolved to a json output."
   ]
  },
  {
   "cell_type": "code",
   "execution_count": 78,
   "metadata": {},
   "outputs": [
    {
     "name": "stdout",
     "output_type": "stream",
     "text": [
      "CPU times: user 49.8 s, sys: 22.1 ms, total: 49.8 s\n",
      "Wall time: 50 s\n"
     ]
    }
   ],
   "source": [
    "%time sample['bbl'] = sample.dropna().apply(bbl, axis=1)"
   ]
  },
  {
   "cell_type": "code",
   "execution_count": 80,
   "metadata": {},
   "outputs": [
    {
     "data": {
      "text/plain": [
       "0              --\n",
       "1    5-01038-0049\n",
       "2              --\n",
       "3    1-01992-0013\n",
       "4    1-00286-0024\n",
       "5    1-00895-0015\n",
       "6    4-11331-0001\n",
       "7    1-01482-0020\n",
       "8    1-01770-0033\n",
       "9    4-06407-0001\n",
       "Name: bbl, dtype: object"
      ]
     },
     "execution_count": 80,
     "metadata": {},
     "output_type": "execute_result"
    }
   ],
   "source": [
    "sample[:10]['bbl']"
   ]
  },
  {
   "cell_type": "code",
   "execution_count": null,
   "metadata": {},
   "outputs": [],
   "source": []
  }
 ],
 "metadata": {
  "kernelspec": {
   "display_name": "Python 3",
   "language": "python",
   "name": "python3"
  },
  "language_info": {
   "codemirror_mode": {
    "name": "ipython",
    "version": 3
   },
   "file_extension": ".py",
   "mimetype": "text/x-python",
   "name": "python",
   "nbconvert_exporter": "python",
   "pygments_lexer": "ipython3",
   "version": "3.6.1"
  }
 },
 "nbformat": 4,
 "nbformat_minor": 2
}
