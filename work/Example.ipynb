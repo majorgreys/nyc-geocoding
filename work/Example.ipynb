{
 "cells": [
  {
   "cell_type": "code",
   "execution_count": 1,
   "metadata": {},
   "outputs": [],
   "source": [
    "from geosupport import Geocode\n",
    "import pandas as pd\n",
    "import numpy as np"
   ]
  },
  {
   "cell_type": "code",
   "execution_count": 2,
   "metadata": {},
   "outputs": [],
   "source": [
    "g = Geocode()"
   ]
  },
  {
   "cell_type": "code",
   "execution_count": 3,
   "metadata": {},
   "outputs": [],
   "source": [
    "def geocode(line):\n",
    "    address = line['address']\n",
    "    zip = line['ZIP']\n",
    "    try:\n",
    "        result = g.address(address=address, zip=zip)\n",
    "        return result\n",
    "    except:\n",
    "        pass"
   ]
  },
  {
   "cell_type": "code",
   "execution_count": 4,
   "metadata": {},
   "outputs": [],
   "source": [
    "result = g.address(address=\"123 PALMER AVE\", zip=10302)"
   ]
  },
  {
   "cell_type": "code",
   "execution_count": 5,
   "metadata": {},
   "outputs": [],
   "source": [
    "sample = pd.read_csv('/data/sample.csv')"
   ]
  },
  {
   "cell_type": "code",
   "execution_count": 6,
   "metadata": {},
   "outputs": [],
   "source": [
    "sample['response'] = sample.apply(geocode, axis=1)"
   ]
  },
  {
   "cell_type": "code",
   "execution_count": 7,
   "metadata": {},
   "outputs": [
    {
     "data": {
      "text/plain": [
       "0    {'First Borough Name': 'MANHATTAN', 'House Num...\n",
       "1    {'First Borough Name': 'STATEN IS', 'House Num...\n",
       "2    {'First Borough Name': 'QUEENS', 'House Number...\n",
       "3    {'First Borough Name': 'MANHATTAN', 'House Num...\n",
       "4    {'First Borough Name': 'MANHATTAN', 'House Num...\n",
       "5    {'First Borough Name': 'MANHATTAN', 'House Num...\n",
       "6    {'First Borough Name': 'QUEENS', 'House Number...\n",
       "7    {'First Borough Name': 'MANHATTAN', 'House Num...\n",
       "8    {'First Borough Name': 'MANHATTAN', 'House Num...\n",
       "9    {'First Borough Name': 'QUEENS', 'House Number...\n",
       "Name: response, dtype: object"
      ]
     },
     "execution_count": 7,
     "metadata": {},
     "output_type": "execute_result"
    }
   ],
   "source": [
    "sample[:10]['response']"
   ]
  },
  {
   "cell_type": "markdown",
   "metadata": {},
   "source": [
    "# Batch process full dataset"
   ]
  },
  {
   "cell_type": "code",
   "execution_count": 8,
   "metadata": {},
   "outputs": [],
   "source": [
    "def batchprocess(data):\n",
    "    for gi, gdf in data.groupby(np.arange(len(data)) // 50000):\n",
    "        print('Processing chunk {}...'.format(gi))\n",
    "        gdf['response'] = gdf.apply(geocode, axis=1)\n",
    "        gdf.to_csv('/data/full_{}.csv'.format(gi), index=False)"
   ]
  },
  {
   "cell_type": "code",
   "execution_count": 9,
   "metadata": {},
   "outputs": [],
   "source": [
    "fulldata = pd.read_csv('/data/full.csv', encoding = \"ISO-8859-1\")"
   ]
  },
  {
   "cell_type": "code",
   "execution_count": 10,
   "metadata": {},
   "outputs": [
    {
     "name": "stdout",
     "output_type": "stream",
     "text": [
      "Processing chunk 0...\n"
     ]
    },
    {
     "name": "stderr",
     "output_type": "stream",
     "text": [
      "/usr/local/lib/python3.6/site-packages/ipykernel_launcher.py:4: SettingWithCopyWarning: \n",
      "A value is trying to be set on a copy of a slice from a DataFrame.\n",
      "Try using .loc[row_indexer,col_indexer] = value instead\n",
      "\n",
      "See the caveats in the documentation: http://pandas.pydata.org/pandas-docs/stable/indexing.html#indexing-view-versus-copy\n",
      "  after removing the cwd from sys.path.\n"
     ]
    },
    {
     "name": "stdout",
     "output_type": "stream",
     "text": [
      "Processing chunk 1...\n",
      "Processing chunk 2...\n",
      "Processing chunk 3...\n",
      "Processing chunk 4...\n",
      "Processing chunk 5...\n",
      "Processing chunk 6...\n",
      "Processing chunk 7...\n",
      "Processing chunk 8...\n",
      "Processing chunk 9...\n",
      "Processing chunk 10...\n",
      "Processing chunk 11...\n",
      "Processing chunk 12...\n",
      "Processing chunk 13...\n",
      "Processing chunk 14...\n",
      "Processing chunk 15...\n",
      "CPU times: user 9min 9s, sys: 57.1 s, total: 10min 6s\n",
      "Wall time: 10min 11s\n"
     ]
    }
   ],
   "source": [
    "%time batchprocess(fulldata)"
   ]
  },
  {
   "cell_type": "markdown",
   "metadata": {},
   "source": [
    "# Pull out particular fields"
   ]
  },
  {
   "cell_type": "markdown",
   "metadata": {},
   "source": [
    "It would seem that the JSON string returned by the Geosupport API is not well-formed JSON since it uses single quotes rather than double quotes for the keys and values. We can use the [demjson](https://deron.meranda.us/python/demjson/) package to do the decoding of such strings."
   ]
  },
  {
   "cell_type": "code",
   "execution_count": 17,
   "metadata": {},
   "outputs": [],
   "source": [
    "import demjson"
   ]
  },
  {
   "cell_type": "code",
   "execution_count": 18,
   "metadata": {},
   "outputs": [],
   "source": [
    "sample = pd.read_csv('/data/full_0.csv')"
   ]
  },
  {
   "cell_type": "markdown",
   "metadata": {},
   "source": [
    "We can pull out now the fields from the json response, which can of course be json objects themselves as is the case with the BBL entry:"
   ]
  },
  {
   "cell_type": "code",
   "execution_count": 21,
   "metadata": {},
   "outputs": [
    {
     "data": {
      "text/plain": [
       "0    {'Borough Code': '', 'Tax Block': '', 'Tax Lot...\n",
       "1    {'Borough Code': '5', 'Tax Block': '01038', 'T...\n",
       "2    {'Borough Code': '', 'Tax Block': '', 'Tax Lot...\n",
       "3    {'Borough Code': '1', 'Tax Block': '01992', 'T...\n",
       "4    {'Borough Code': '1', 'Tax Block': '00286', 'T...\n",
       "5    {'Borough Code': '1', 'Tax Block': '00895', 'T...\n",
       "6    {'Borough Code': '4', 'Tax Block': '11331', 'T...\n",
       "7    {'Borough Code': '1', 'Tax Block': '01482', 'T...\n",
       "8    {'Borough Code': '1', 'Tax Block': '01770', 'T...\n",
       "9    {'Borough Code': '4', 'Tax Block': '06407', 'T...\n",
       "dtype: object"
      ]
     },
     "execution_count": 21,
     "metadata": {},
     "output_type": "execute_result"
    }
   ],
   "source": [
    "sample[:10].apply(lambda x: demjson.decode(x['response'])['BOROUGH BLOCK LOT (BBL)'], axis=1)"
   ]
  },
  {
   "cell_type": "code",
   "execution_count": 24,
   "metadata": {},
   "outputs": [],
   "source": [
    "def bbl(row):\n",
    "    # Produce BBL string for row in data\n",
    "    if 'response' in row and row['response']:\n",
    "        response = demjson.decode(row['response'])\n",
    "        bbl_json = response['BOROUGH BLOCK LOT (BBL)']\n",
    "        result = '{}-{}-{}'.format(bbl_json['Borough Code'],\n",
    "                                   bbl_json['Tax Block'],\n",
    "                                   bbl_json['Tax Lot'])\n",
    "        return result"
   ]
  },
  {
   "cell_type": "code",
   "execution_count": null,
   "metadata": {},
   "outputs": [],
   "source": [
    "%time sample['bbl'] = sample.apply(bbl, axis=1)"
   ]
  },
  {
   "cell_type": "code",
   "execution_count": null,
   "metadata": {},
   "outputs": [],
   "source": [
    "sample[:10]['bbl']"
   ]
  }
 ],
 "metadata": {
  "kernelspec": {
   "display_name": "Python 3",
   "language": "python",
   "name": "python3"
  },
  "language_info": {
   "codemirror_mode": {
    "name": "ipython",
    "version": 3
   },
   "file_extension": ".py",
   "mimetype": "text/x-python",
   "name": "python",
   "nbconvert_exporter": "python",
   "pygments_lexer": "ipython3",
   "version": "3.6.1"
  }
 },
 "nbformat": 4,
 "nbformat_minor": 2
}
