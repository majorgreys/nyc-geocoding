{
 "cells": [
  {
   "cell_type": "code",
   "execution_count": 1,
   "metadata": {},
   "outputs": [],
   "source": [
    "from geosupport import Geocode\n",
    "import pandas as pd\n",
    "import numpy as np"
   ]
  },
  {
   "cell_type": "code",
   "execution_count": 2,
   "metadata": {},
   "outputs": [],
   "source": [
    "g = Geocode()"
   ]
  },
  {
   "cell_type": "code",
   "execution_count": 3,
   "metadata": {},
   "outputs": [],
   "source": [
    "def geocode(line):\n",
    "    address = line['address']\n",
    "    zip = line['ZIP']\n",
    "    try:\n",
    "        result = g.address(address=address, zip=zip)\n",
    "        return result\n",
    "    except:\n",
    "        pass"
   ]
  },
  {
   "cell_type": "code",
   "execution_count": 4,
   "metadata": {},
   "outputs": [],
   "source": [
    "result = g.address(address=\"123 PALMER AVE\", zip=10302)"
   ]
  },
  {
   "cell_type": "code",
   "execution_count": 5,
   "metadata": {},
   "outputs": [],
   "source": [
    "sample = pd.read_csv('/data/sample.csv')"
   ]
  },
  {
   "cell_type": "code",
   "execution_count": 6,
   "metadata": {},
   "outputs": [],
   "source": [
    "sample['response'] = sample.apply(geocode, axis=1)"
   ]
  },
  {
   "cell_type": "code",
   "execution_count": 7,
   "metadata": {},
   "outputs": [
    {
     "data": {
      "text/plain": [
       "0    {'First Borough Name': 'MANHATTAN', 'House Num...\n",
       "1    {'First Borough Name': 'STATEN IS', 'House Num...\n",
       "2    {'First Borough Name': 'QUEENS', 'House Number...\n",
       "3    {'First Borough Name': 'MANHATTAN', 'House Num...\n",
       "4    {'First Borough Name': 'MANHATTAN', 'House Num...\n",
       "5    {'First Borough Name': 'MANHATTAN', 'House Num...\n",
       "6    {'First Borough Name': 'QUEENS', 'House Number...\n",
       "7    {'First Borough Name': 'MANHATTAN', 'House Num...\n",
       "8    {'First Borough Name': 'MANHATTAN', 'House Num...\n",
       "9    {'First Borough Name': 'QUEENS', 'House Number...\n",
       "Name: response, dtype: object"
      ]
     },
     "execution_count": 7,
     "metadata": {},
     "output_type": "execute_result"
    }
   ],
   "source": [
    "sample[:10]['response']"
   ]
  },
  {
   "cell_type": "markdown",
   "metadata": {},
   "source": [
    "# Batch process full dataset"
   ]
  },
  {
   "cell_type": "code",
   "execution_count": 8,
   "metadata": {},
   "outputs": [],
   "source": [
    "def batchprocess(data):\n",
    "    for gi, gdf in data.groupby(np.arange(len(data)) // 50000):\n",
    "        print('Processing chunk {}...'.format(gi))\n",
    "        gdf['response'] = gdf.apply(geocode, axis=1)\n",
    "        gdf.to_csv('/data/full_{}.csv'.format(gi), index=False)"
   ]
  },
  {
   "cell_type": "code",
   "execution_count": 9,
   "metadata": {},
   "outputs": [],
   "source": [
    "fulldata = pd.read_csv('/data/full.csv', encoding = \"ISO-8859-1\")"
   ]
  },
  {
   "cell_type": "code",
   "execution_count": 10,
   "metadata": {},
   "outputs": [
    {
     "name": "stdout",
     "output_type": "stream",
     "text": [
      "Processing chunk 0...\n"
     ]
    },
    {
     "name": "stderr",
     "output_type": "stream",
     "text": [
      "/usr/local/lib/python3.6/site-packages/ipykernel_launcher.py:4: SettingWithCopyWarning: \n",
      "A value is trying to be set on a copy of a slice from a DataFrame.\n",
      "Try using .loc[row_indexer,col_indexer] = value instead\n",
      "\n",
      "See the caveats in the documentation: http://pandas.pydata.org/pandas-docs/stable/indexing.html#indexing-view-versus-copy\n",
      "  after removing the cwd from sys.path.\n"
     ]
    },
    {
     "name": "stdout",
     "output_type": "stream",
     "text": [
      "Processing chunk 1...\n",
      "Processing chunk 2...\n",
      "Processing chunk 3...\n",
      "Processing chunk 4...\n",
      "Processing chunk 5...\n",
      "Processing chunk 6...\n",
      "Processing chunk 7...\n",
      "Processing chunk 8...\n",
      "Processing chunk 9...\n",
      "Processing chunk 10...\n",
      "Processing chunk 11...\n",
      "Processing chunk 12...\n",
      "Processing chunk 13...\n",
      "Processing chunk 14...\n",
      "Processing chunk 15...\n",
      "CPU times: user 9min 9s, sys: 57.1 s, total: 10min 6s\n",
      "Wall time: 10min 11s\n"
     ]
    }
   ],
   "source": [
    "%time batchprocess(fulldata)"
   ]
  },
  {
   "cell_type": "markdown",
   "metadata": {},
   "source": [
    "# Pull out particular fields"
   ]
  },
  {
   "cell_type": "markdown",
   "metadata": {},
   "source": [
    "It would seem that the JSON string returned by the Geosupport API is not well-formed JSON since it uses single quotes rather than double quotes for the keys and values. We can use the [demjson](https://deron.meranda.us/python/demjson/) package to do the decoding of such strings."
   ]
  },
  {
   "cell_type": "code",
   "execution_count": 17,
   "metadata": {},
   "outputs": [],
   "source": [
    "import demjson"
   ]
  },
  {
   "cell_type": "code",
   "execution_count": 48,
   "metadata": {},
   "outputs": [],
   "source": [
    "sample = pd.read_csv('/data/full_0.csv')"
   ]
  },
  {
   "cell_type": "markdown",
   "metadata": {},
   "source": [
    "We can pull out now the fields from the json response, which can of course be json objects themselves as is the case with the BBL entry:"
   ]
  },
  {
   "cell_type": "code",
   "execution_count": 21,
   "metadata": {},
   "outputs": [
    {
     "data": {
      "text/plain": [
       "0    {'Borough Code': '', 'Tax Block': '', 'Tax Lot...\n",
       "1    {'Borough Code': '5', 'Tax Block': '01038', 'T...\n",
       "2    {'Borough Code': '', 'Tax Block': '', 'Tax Lot...\n",
       "3    {'Borough Code': '1', 'Tax Block': '01992', 'T...\n",
       "4    {'Borough Code': '1', 'Tax Block': '00286', 'T...\n",
       "5    {'Borough Code': '1', 'Tax Block': '00895', 'T...\n",
       "6    {'Borough Code': '4', 'Tax Block': '11331', 'T...\n",
       "7    {'Borough Code': '1', 'Tax Block': '01482', 'T...\n",
       "8    {'Borough Code': '1', 'Tax Block': '01770', 'T...\n",
       "9    {'Borough Code': '4', 'Tax Block': '06407', 'T...\n",
       "dtype: object"
      ]
     },
     "execution_count": 21,
     "metadata": {},
     "output_type": "execute_result"
    }
   ],
   "source": [
    "sample[:10].apply(lambda x: demjson.decode(x['response'])['BOROUGH BLOCK LOT (BBL)'], axis=1)"
   ]
  },
  {
   "cell_type": "code",
   "execution_count": 53,
   "metadata": {},
   "outputs": [],
   "source": [
    "def bbl(row):\n",
    "    # Produce BBL string for row in data\n",
    "    if 'response' in row and row['response']:\n",
    "        response = demjson.decode(row['response'])\n",
    "        if response:\n",
    "            bbldict = response['BOROUGH BLOCK LOT (BBL)']\n",
    "            result = '{}-{}-{}'.format(bbldict['Borough Code'],\n",
    "                                       bbldict['Tax Block'],\n",
    "                                       bbldict['Tax Lot'])\n",
    "            return result"
   ]
  },
  {
   "cell_type": "code",
   "execution_count": 57,
   "metadata": {},
   "outputs": [
    {
     "data": {
      "text/plain": [
       "0               --\n",
       "1     5-01038-0049\n",
       "2               --\n",
       "3     1-01992-0013\n",
       "4     1-00286-0024\n",
       "5     1-00895-0015\n",
       "6     4-11331-0001\n",
       "7     1-01482-0020\n",
       "8     1-01770-0033\n",
       "9     4-06407-0001\n",
       "10    3-07635-0011\n",
       "11    1-02060-0018\n",
       "12    1-01348-0023\n",
       "13    3-01185-0001\n",
       "14    5-00593-0500\n",
       "15    4-06059-0001\n",
       "16    1-01726-0044\n",
       "17              --\n",
       "18    4-02169-0025\n",
       "19    2-05933-0224\n",
       "20    2-05790-0001\n",
       "21    4-09695-0014\n",
       "22    4-02857-0036\n",
       "23    4-09762-0001\n",
       "24    4-06831-0022\n",
       "25    4-09762-0001\n",
       "26              --\n",
       "27    3-01099-0059\n",
       "28    1-00481-7502\n",
       "29    1-01495-0032\n",
       "          ...     \n",
       "70    1-01457-0017\n",
       "71    1-00448-0009\n",
       "72    1-00831-0033\n",
       "73    1-01169-0001\n",
       "74    1-02180-0001\n",
       "75    1-01461-7501\n",
       "76    1-00078-7508\n",
       "77    2-04355-0001\n",
       "78    3-06094-0001\n",
       "79    3-06093-0045\n",
       "80    3-06118-0001\n",
       "81    3-05707-0007\n",
       "82    3-06142-0046\n",
       "83    3-08725-0001\n",
       "84    1-01876-0034\n",
       "85    1-01841-0060\n",
       "86    1-01861-0022\n",
       "87    1-01840-0001\n",
       "88    1-01841-0063\n",
       "89    1-01841-0062\n",
       "90    1-01113-0047\n",
       "91    3-01960-0011\n",
       "92              --\n",
       "93    1-01876-0034\n",
       "94              --\n",
       "95    3-01984-0023\n",
       "96    3-03588-0001\n",
       "97    3-03049-0046\n",
       "98    3-03049-0046\n",
       "99    3-04452-0200\n",
       "Length: 100, dtype: object"
      ]
     },
     "execution_count": 57,
     "metadata": {},
     "output_type": "execute_result"
    }
   ],
   "source": [
    "sample[:100].dropna().apply(bbl, axis=1)"
   ]
  },
  {
   "cell_type": "markdown",
   "metadata": {},
   "source": [
    "Remember to `dropna()` since some of the rows might not have resolved to a json output."
   ]
  },
  {
   "cell_type": "code",
   "execution_count": null,
   "metadata": {},
   "outputs": [],
   "source": [
    "%time sample['bbl'] = sample.dropna().apply(bbl, axis=1)"
   ]
  },
  {
   "cell_type": "code",
   "execution_count": null,
   "metadata": {},
   "outputs": [],
   "source": []
  }
 ],
 "metadata": {
  "kernelspec": {
   "display_name": "Python 3",
   "language": "python",
   "name": "python3"
  },
  "language_info": {
   "codemirror_mode": {
    "name": "ipython",
    "version": 3
   },
   "file_extension": ".py",
   "mimetype": "text/x-python",
   "name": "python",
   "nbconvert_exporter": "python",
   "pygments_lexer": "ipython3",
   "version": "3.6.1"
  }
 },
 "nbformat": 4,
 "nbformat_minor": 2
}
